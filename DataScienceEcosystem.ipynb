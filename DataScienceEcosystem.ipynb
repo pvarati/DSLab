{
 "cells": [
  {
   "cell_type": "markdown",
   "id": "3d3c96b3-c274-4274-9191-07fcae94a7fe",
   "metadata": {},
   "source": [
    "# Data Science Tools and Ecosystem"
   ]
  },
  {
   "cell_type": "markdown",
   "id": "ed4cd943-6484-48a0-a457-c57fe2ce7bed",
   "metadata": {},
   "source": [
    "In this notebook, Data Science Tools and Ecosystem are summarized."
   ]
  },
  {
   "cell_type": "markdown",
   "id": "1bdc04b7-3ce6-4208-b051-3c4fee8099f2",
   "metadata": {},
   "source": [
    "Some of the popular languages that Data Scientists use are:\n",
    "1. Python\n",
    "2. R\n",
    "3. SQL"
   ]
  },
  {
   "cell_type": "markdown",
   "id": "8454515b-7f48-4ae9-a553-d30a1ebd9c36",
   "metadata": {},
   "source": [
    "Some of the commonly used libraries used by Data Scientists include:\n",
    "1. Pandas\n",
    "2. Numpy\n",
    "3. Matplotlib\n",
    "4. Scikit-learn"
   ]
  },
  {
   "cell_type": "markdown",
   "id": "e28fc5f9-0bfc-4f99-acde-d97388d4e470",
   "metadata": {},
   "source": [
    "\n",
    "|Data Science Tools|\n",
    "|---|\n",
    "|Pytorch|\n",
    "|Jupyter Notebook|\n",
    "|RStudio|\n",
    "|MATLAB|"
   ]
  },
  {
   "cell_type": "markdown",
   "id": "59741090-fb88-4b24-af96-6bbab41b55fc",
   "metadata": {},
   "source": [
    "### Below are a few examples of evaluating arithmetic expressions in Python"
   ]
  },
  {
   "cell_type": "code",
   "execution_count": 30,
   "id": "06bbcca5-2260-4fab-8546-62b04e8fa664",
   "metadata": {},
   "outputs": [
    {
     "data": {
      "text/plain": [
       "17"
      ]
     },
     "execution_count": 30,
     "metadata": {},
     "output_type": "execute_result"
    }
   ],
   "source": [
    "(3*4)+5"
   ]
  },
  {
   "cell_type": "code",
   "execution_count": 32,
   "id": "4f4919b2-b3d5-46a8-8416-e5c093152244",
   "metadata": {},
   "outputs": [
    {
     "data": {
      "text/plain": [
       "3"
      ]
     },
     "execution_count": 32,
     "metadata": {},
     "output_type": "execute_result"
    }
   ],
   "source": [
    "200//60"
   ]
  },
  {
   "cell_type": "markdown",
   "id": "dc4b262a-a2c3-440c-a595-1d21b1dc271f",
   "metadata": {},
   "source": [
    "**Objectives:**\n",
    "* Learn how to create Jupyter Notebooks\n",
    "* Learn how to use github \n",
    "* Learn how to use RStudio\n",
    "* Learn how to use IBMs Whatson\n",
    "* Learn how to use Google colab\n",
    "* Laern how to use Anaconda"
   ]
  },
  {
   "cell_type": "markdown",
   "id": "bc966507-4366-4e31-920d-6350ece0cd2f",
   "metadata": {},
   "source": [
    "## Author\n",
    "Pavana"
   ]
  },
  {
   "cell_type": "code",
   "execution_count": null,
   "id": "74ce7993-4533-448b-b752-a351e4aa1d15",
   "metadata": {},
   "outputs": [],
   "source": []
  }
 ],
 "metadata": {
  "kernelspec": {
   "display_name": "Python 3 (ipykernel)",
   "language": "python",
   "name": "python3"
  },
  "language_info": {
   "codemirror_mode": {
    "name": "ipython",
    "version": 3
   },
   "file_extension": ".py",
   "mimetype": "text/x-python",
   "name": "python",
   "nbconvert_exporter": "python",
   "pygments_lexer": "ipython3",
   "version": "3.12.4"
  }
 },
 "nbformat": 4,
 "nbformat_minor": 5
}
